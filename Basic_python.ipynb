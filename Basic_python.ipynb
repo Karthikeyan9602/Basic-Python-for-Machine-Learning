{
  "nbformat": 4,
  "nbformat_minor": 0,
  "metadata": {
    "colab": {
      "provenance": [],
      "authorship_tag": "ABX9TyNa0F3yxIfwK22ni1eBHx+Y",
      "include_colab_link": true
    },
    "kernelspec": {
      "name": "python3",
      "display_name": "Python 3"
    },
    "language_info": {
      "name": "python"
    }
  },
  "cells": [
    {
      "cell_type": "markdown",
      "metadata": {
        "id": "view-in-github",
        "colab_type": "text"
      },
      "source": [
        "<a href=\"https://colab.research.google.com/github/Karthikeyan9602/Basic-Python-for-Machine-Learning/blob/main/Basic_python.ipynb\" target=\"_parent\"><img src=\"https://colab.research.google.com/assets/colab-badge.svg\" alt=\"Open In Colab\"/></a>"
      ]
    },
    {
      "cell_type": "markdown",
      "source": [
        "# Introduction to `Python`\n",
        "First program : Display Hello"
      ],
      "metadata": {
        "id": "Wea9C7gp7JAh"
      }
    },
    {
      "cell_type": "code",
      "source": [
        "print(\"Hello\")"
      ],
      "metadata": {
        "colab": {
          "base_uri": "https://localhost:8080/"
        },
        "id": "1It9CQfs73Sw",
        "outputId": "724b8de3-02ee-4f95-ee11-7c00a9af2510"
      },
      "execution_count": 1,
      "outputs": [
        {
          "output_type": "stream",
          "name": "stdout",
          "text": [
            "Hello\n"
          ]
        }
      ]
    },
    {
      "cell_type": "code",
      "source": [
        "a=30\n",
        "print(a)"
      ],
      "metadata": {
        "colab": {
          "base_uri": "https://localhost:8080/"
        },
        "id": "92wfmyll8_f5",
        "outputId": "12eaa7db-e6d3-42aa-8fb7-9ad4c441ba0d"
      },
      "execution_count": 2,
      "outputs": [
        {
          "output_type": "stream",
          "name": "stdout",
          "text": [
            "30\n"
          ]
        }
      ]
    },
    {
      "cell_type": "markdown",
      "source": [
        "Program to assign an integer and display it"
      ],
      "metadata": {
        "id": "4PZllfn19WtR"
      }
    },
    {
      "cell_type": "code",
      "source": [
        "a=30\n",
        "print(\"Value of the variable is\",a)"
      ],
      "metadata": {
        "colab": {
          "base_uri": "https://localhost:8080/"
        },
        "id": "RyaZpwym9Nuh",
        "outputId": "3531e8fb-ffb3-404b-b1e8-2a5809531958"
      },
      "execution_count": 3,
      "outputs": [
        {
          "output_type": "stream",
          "name": "stdout",
          "text": [
            "Value of the variable is 30\n"
          ]
        }
      ]
    },
    {
      "cell_type": "markdown",
      "source": [
        "Program to find sum of two numbers"
      ],
      "metadata": {
        "id": "vshRYwTW9meh"
      }
    },
    {
      "cell_type": "code",
      "source": [
        "a=10\n",
        "b=30\n",
        "print(\"Sum =\",a+b)"
      ],
      "metadata": {
        "colab": {
          "base_uri": "https://localhost:8080/"
        },
        "id": "kPIioHo89ubh",
        "outputId": "d88d54f6-7287-4bb1-ba67-c58f2b2a716a"
      },
      "execution_count": 9,
      "outputs": [
        {
          "output_type": "stream",
          "name": "stdout",
          "text": [
            "Sum = 40\n"
          ]
        }
      ]
    },
    {
      "cell_type": "code",
      "source": [
        "a=int(input(\"Enter the First number:\"))\n",
        "b=int(input(\"Enter the Second number:\"))\n",
        "print(\"Sum =\",a+b)"
      ],
      "metadata": {
        "colab": {
          "base_uri": "https://localhost:8080/"
        },
        "id": "D6Ik1aLQ-MPB",
        "outputId": "f7dddb96-9075-4cda-c5ed-c5305da08008"
      },
      "execution_count": 10,
      "outputs": [
        {
          "output_type": "stream",
          "name": "stdout",
          "text": [
            "Enter the First number:20\n",
            "Enter the Second number:30\n",
            "Sum = 50\n"
          ]
        }
      ]
    }
  ]
}